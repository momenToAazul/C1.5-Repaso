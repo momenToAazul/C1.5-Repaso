{
 "cells": [
  {
   "cell_type": "markdown",
   "id": "79ee277a",
   "metadata": {},
   "source": [
    "# **🧠 Problema de repaso con enfoque en C1.5**  "
   ]
  },
  {
   "cell_type": "markdown",
   "id": "7b178dc0",
   "metadata": {},
   "source": [
    "## **💡Descripción de la situación**"
   ]
  },
  {
   "cell_type": "markdown",
   "id": "6a031517",
   "metadata": {},
   "source": [
    "Una empresa de manufactura busca predecir la **productividad semanal (unidades producidas por trabajador)**.  \n",
    "\n",
    "Se ajustó un modelo con estas variables:  \n",
    "- `Edad` (años)  \n",
    "- `Experiencia` (años en la industria)  \n",
    "- `HorasExtra` (horas extra trabajadas por semana)  \n",
    "- `Sexo` (M=1, F=0)  \n",
    "- `ÁreaTrabajo` (Ensamblaje=base, Empaque, Calidad)  \n",
    "- `Turno` (Matutino=base, Vespertino, Nocturno)  \n",
    "- `HorasCapacitacion` (horas al año)  \n",
    "\n",
    "También se incluyó la interacción **ÁreaTrabajo × Turno**."
   ]
  },
  {
   "cell_type": "markdown",
   "id": "a80d95c1",
   "metadata": {},
   "source": [
    "## **📊 Resultados del modelo**"
   ]
  },
  {
   "cell_type": "markdown",
   "id": "6c486b0e",
   "metadata": {},
   "source": [
    "- R² ajustado = **0.61**  \n",
    "- Error estándar residual = **4.8**  \n",
    "\n",
    "Coeficientes principales:\n",
    "\n",
    "| Variable | Coeficiente | p-value |\n",
    "|----------|-------------|---------|\n",
    "| Intercepto | 12.5 | <0.001 |\n",
    "| Edad | -0.15 | 0.03 |\n",
    "| Experiencia | +0.42 | <0.001 |\n",
    "| HorasExtra | +0.55 | <0.001 |\n",
    "| Sexo (M=1) | +1.8 | 0.07 |\n",
    "| ÁreaTrabajo: Empaque | -2.1 | 0.01 |\n",
    "| ÁreaTrabajo: Calidad | +0.5 | 0.42 |\n",
    "| Turno: Vespertino | +1.3 | 0.09 |\n",
    "| Turno: Nocturno | -3.6 | <0.001 |\n",
    "| Empaque × Nocturno | -4.8 | <0.001 |\n",
    "\n",
    "Notas:\n",
    "- Se detectaron **outliers** en `HorasExtra` (>60 h). Eliminarlos mejoró el R² ajustado de 0.58 a 0.61.  \n",
    "\n",
    "- **Colinealidad**: `Edad` y `Experiencia` tenían correlación 0.89; al quitar `Edad`, los p-values mejoraron. \n",
    " \n",
    "- **Huecos**: `HorasCapacitacion` tenía 10% de faltantes; imputar con la **media** → coef. no significativo, con **KNN** → coef. positivo y significativo (+0.25, p=0.04).  "
   ]
  },
  {
   "cell_type": "markdown",
   "id": "aeb85960",
   "metadata": {},
   "source": [
    "## **🔍 Preguntas de razonamiento**"
   ]
  },
  {
   "cell_type": "markdown",
   "id": "ef512416",
   "metadata": {},
   "source": [
    "### **Colinealidad**"
   ]
  },
  {
   "cell_type": "markdown",
   "id": "fe3a450b",
   "metadata": {},
   "source": [
    "¿Por qué fue razonable eliminar Edad en lugar de Experiencia?\n",
    "\n",
    "¿Qué efecto tuvo esta decisión en la interpretación del modelo?"
   ]
  },
  {
   "cell_type": "markdown",
   "id": "adcc850c",
   "metadata": {},
   "source": [
    "### **Outliers**"
   ]
  },
  {
   "cell_type": "markdown",
   "id": "57914597",
   "metadata": {},
   "source": [
    "¿Qué impacto tuvieron los outliers (>60 h extra) en el modelo? \n",
    "\n",
    "¿Qué alternativa sencilla habría además de eliminarlos?  \n"
   ]
  },
  {
   "cell_type": "markdown",
   "id": "8141703f",
   "metadata": {},
   "source": [
    "### **Interacción**"
   ]
  },
  {
   "cell_type": "markdown",
   "id": "fdbe68b2",
   "metadata": {},
   "source": [
    "¿Cómo se interpreta el coeficiente de la interacción Empaque × Nocturno (-4.8)?\n",
    "\n",
    "¿Qué significa en la práctica para un empleado del área de empaque que trabaje en turno nocturno?"
   ]
  },
  {
   "cell_type": "markdown",
   "id": "c5c5704d",
   "metadata": {},
   "source": [
    "### **Imputación de datos faltantes**"
   ]
  },
  {
   "cell_type": "markdown",
   "id": "c1c2a205",
   "metadata": {},
   "source": [
    "¿Por qué el método de imputación (media vs KNN) cambió la significancia de HorasCapacitacion?\n",
    "\n",
    "¿Qué implicaciones tiene esto al momento de tomar decisiones de recursos humanos?"
   ]
  },
  {
   "cell_type": "markdown",
   "id": "e717287e",
   "metadata": {},
   "source": [
    "### **Conclusión general**"
   ]
  },
  {
   "cell_type": "markdown",
   "id": "dd431ae5",
   "metadata": {},
   "source": [
    "Con un R² ajustado de 0.61, ¿cómo evaluarías la utilidad de este modelo para predecir productividad?\n",
    "\n",
    "¿Lo recomendarías para decisiones de contratación/capacitación, o solo como una herramienta exploratoria?"
   ]
  },
  {
   "cell_type": "markdown",
   "id": "2887bb4d",
   "metadata": {},
   "source": [
    "## **👀 Solución (PROPUESTA)**"
   ]
  },
  {
   "cell_type": "markdown",
   "id": "80978d3a",
   "metadata": {},
   "source": [
    "### **Colinealidad**"
   ]
  },
  {
   "cell_type": "markdown",
   "id": "08d0e155",
   "metadata": {},
   "source": [
    "La correlación entre Edad y Experiencia fue **0.89**, lo que generaba colinealidad. Se eliminó Edad porque Experiencia está directamente vinculada a la productividad laboral, mientras que Edad solo la correlaciona de forma indirecta. \n",
    "\n",
    "Al mantener Experiencia, se redujo la varianza de los coeficientes y mejoraron los p-values (Nota 2). La interpretación del modelo se vuelve más clara: cada año de experiencia aporta en promedio **+0.42 unidades de productividad**.\n"
   ]
  },
  {
   "cell_type": "markdown",
   "id": "c8ba4eec",
   "metadata": {},
   "source": [
    "### **Outliers**"
   ]
  },
  {
   "cell_type": "markdown",
   "id": "31cc6c4b",
   "metadata": {},
   "source": [
    "Si los outliers representan casos reales, no conviene eliminarlos automáticamente, ya que podrían aportar información valiosa sobre situaciones extremas. En este análisis, se observó que los outliers en HorasExtra inflaban la pendiente de esta variable y afectaban el ajuste del modelo, ya que el R² ajustado aumentó de 0.58 a 0.61 al retirarlos.\n",
    "\n",
    "\n",
    "- **Transformación logarítmica:** aplicar un logaritmo a HorasExtra para reducir la influencia de valores extremadamente altos y mejorar la distribución de la variable.\n",
    "\n",
    "- **Imputación basada en KNN:** estimar valores más representativos usando observaciones similares y reemplazar los extremos sin perder información.  \n",
    "\n",
    "- **Codificación en categorías:** transformar los valores extremos en una categoría especial (por ejemplo, “HorasExtra altas”) para capturar su efecto sin distorsionar la relación lineal."
   ]
  },
  {
   "cell_type": "markdown",
   "id": "729895de",
   "metadata": {},
   "source": [
    "### **Interacción**"
   ]
  },
  {
   "cell_type": "markdown",
   "id": "b0a80fc9",
   "metadata": {},
   "source": [
    "El efecto del turno nocturno en Empaque incluye:  \n",
    "- penalización general del nocturno (−3.6),  \n",
    "- menor productividad propia de Empaque (−2.1),  \n",
    "- más la interacción negativa (−4.8).  \n",
    "\n",
    "En total, un empleado de **Empaque en turno nocturno produce −10.5 unidades menos** que el baseline (Ensamblaje–Matutino). Es la combinación menos productiva."
   ]
  },
  {
   "cell_type": "markdown",
   "id": "fa2c9a4a",
   "metadata": {},
   "source": [
    "### **Imputación de datos faltantes**"
   ]
  },
  {
   "cell_type": "markdown",
   "id": "e7f05b7f",
   "metadata": {},
   "source": [
    "Con la **media**, se rellenó con un valor constante que redujo la variabilidad y atenuó la relación con productividad, por lo tanto, un coeficiente no significativo.  \n",
    "Con **KNN**, los valores se estimaron con base en observaciones similares, manteniendo la estructura de los datos, entonces, coeficiente positivo y significativo (+0.25, p=0.04). \n",
    " \n",
    "Esto implica que **el método de imputación modifica la interpretación del modelo**, lo cual afecta decisiones de capacitación en RH."
   ]
  },
  {
   "cell_type": "markdown",
   "id": "5c85dc1d",
   "metadata": {},
   "source": [
    "### **Conclusión general**"
   ]
  },
  {
   "cell_type": "markdown",
   "id": "5c594f8c",
   "metadata": {},
   "source": [
    "El modelo explica un **61% de la variabilidad** de la productividad, con un error de ±4.8 unidades. Su desempeño es **moderado**: útil para análisis exploratorio y diseñar políticas generales (ej. turnos, capacitación), pero no lo suficientemente preciso para decisiones individuales de contratación o evaluación. Se recomienda ajustar variables antes de aplicarlo operativamente."
   ]
  }
 ],
 "metadata": {
  "language_info": {
   "name": "python"
  }
 },
 "nbformat": 4,
 "nbformat_minor": 5
}
